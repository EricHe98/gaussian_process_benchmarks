{
 "cells": [
  {
   "cell_type": "code",
   "execution_count": 1,
   "id": "b2252f66",
   "metadata": {},
   "outputs": [],
   "source": [
    "import numpy as np\n",
    "import pandas as pd\n",
    "import os\n",
    "from sklearn.preprocessing import OrdinalEncoder"
   ]
  },
  {
   "cell_type": "code",
   "execution_count": 2,
   "id": "49226964",
   "metadata": {},
   "outputs": [],
   "source": [
    "data_dir = '../data'"
   ]
  },
  {
   "cell_type": "code",
   "execution_count": 3,
   "id": "6237c5c8",
   "metadata": {},
   "outputs": [],
   "source": [
    "# Iris dataset\n",
    "data = pd.read_csv('{data_dir}/iris.data'.format(data_dir=data_dir), header=None)\n",
    "data.columns = ['Sepal Length', 'Sepal Width', 'Petal Length', 'Petal Width', 'Class']\n",
    "data['Class'] = OrdinalEncoder().fit_transform(data[['Class']])\n",
    "data = data.astype(float)\n",
    "\n",
    "data.to_csv('{data_dir}/iris_processed.csv'.format(data_dir=data_dir), index=False)"
   ]
  },
  {
   "cell_type": "code",
   "execution_count": 4,
   "id": "ad0ad98d",
   "metadata": {},
   "outputs": [],
   "source": [
    "# Car Evaluation\n",
    "data = pd.read_csv('{data_dir}/car.data'.format(data_dir=data_dir), header=None)\n",
    "data.columns = ['buying', 'maint', 'doors', 'persons', 'lug_boot', 'safety', 'class']\n",
    "for column in data.columns:\n",
    "    data[column] = OrdinalEncoder().fit_transform(data[[column]])\n",
    "data = data.astype(float)\n",
    "    \n",
    "data.to_csv('{data_dir}/car_processed.csv'.format(data_dir=data_dir), index=False)"
   ]
  },
  {
   "cell_type": "code",
   "execution_count": 5,
   "id": "45c1d899",
   "metadata": {},
   "outputs": [],
   "source": [
    "# Dry Beans\n",
    "data = pd.read_excel('{data_dir}/Dry_Bean_Dataset.xlsx'.format(data_dir=data_dir))\n",
    "data['Class'] = OrdinalEncoder().fit_transform(data[['Class']])\n",
    "data = data.astype(float)\n",
    "\n",
    "data.to_csv('{data_dir}/drybeans_processed.csv'.format(data_dir=data_dir), index=False)"
   ]
  },
  {
   "cell_type": "code",
   "execution_count": 6,
   "id": "bd9174d4",
   "metadata": {},
   "outputs": [],
   "source": [
    "# Adult\n",
    "data = pd.read_csv('{data_dir}/adult.data'.format(data_dir=data_dir), header=None)\n",
    "data.columns = ['age', 'workclass', 'fnlwgt', 'education', 'education-num', 'marital-status', \n",
    "                'occupation', 'relationship', 'race', 'sex', 'capital-gain', 'capital-loss',\n",
    "                'hours-per-week', 'native-country', 'income-class']\n",
    "for column in ['workclass', 'education', 'marital-status', \n",
    "               'occupation', 'relationship', 'race', 'sex', \n",
    "               'native-country', 'income-class']:\n",
    "    data[column] = OrdinalEncoder().fit_transform(data[[column]])\n",
    "data = data.astype(float)\n",
    "\n",
    "data.to_csv('{data_dir}/adult_processed.csv'.format(data_dir=data_dir, index=False))"
   ]
  },
  {
   "cell_type": "code",
   "execution_count": 7,
   "id": "9d84494c",
   "metadata": {},
   "outputs": [],
   "source": [
    "# Diabetes\n",
    "data = pd.read_csv('{data_dir}/diabetic_data.csv'.format(data_dir=data_dir))\n",
    "data = data.drop('encounter_id', axis=1)\n",
    "data = data.replace({'?':np.nan})\n",
    "# has weird stuff like V57 in it, just replacing it with NULL\n",
    "data['diag_3'] = data['diag_3'].replace(to_replace='(?!^\\d+$)^.+$', value=np.nan, regex=True)\n",
    "data['diag_2'] = data['diag_2'].replace(to_replace='(?!^\\d+$)^.+$', value=np.nan, regex=True)\n",
    "data['diag_1'] = data['diag_1'].replace(to_replace='(?!^\\d+$)^.+$', value=np.nan, regex=True)\n",
    "\n",
    "for column in ['patient_nbr', 'race', 'gender', 'age', 'weight', 'payer_code', 'medical_specialty', \n",
    "               'max_glu_serum', 'A1Cresult', 'metformin', 'repaglinide', 'nateglinide', \n",
    "               'chlorpropamide', 'glimepiride', 'acetohexamide', 'glipizide', 'glyburide',\n",
    "               'tolbutamide', 'pioglitazone', 'rosiglitazone', 'acarbose', 'miglitol', 'troglitazone', \n",
    "               'tolazamide', 'examide', 'citoglipton', 'insulin', 'glyburide-metformin', \n",
    "               'glipizide-metformin', 'glimepiride-pioglitazone', 'metformin-rosiglitazone', \n",
    "               'metformin-pioglitazone', 'change', 'diabetesMed', 'readmitted']:\n",
    "    data[column] = OrdinalEncoder().fit_transform(data[[column]])\n",
    "data = data.astype(float)\n",
    "data.to_csv('{data_dir}/diabetes_processed.csv'.format(data_dir=data_dir, index=False))"
   ]
  },
  {
   "cell_type": "code",
   "execution_count": null,
   "id": "9ac0f6a2",
   "metadata": {},
   "outputs": [],
   "source": []
  }
 ],
 "metadata": {
  "kernelspec": {
   "display_name": "Python 3 (ipykernel)",
   "language": "python",
   "name": "python3"
  },
  "language_info": {
   "codemirror_mode": {
    "name": "ipython",
    "version": 3
   },
   "file_extension": ".py",
   "mimetype": "text/x-python",
   "name": "python",
   "nbconvert_exporter": "python",
   "pygments_lexer": "ipython3",
   "version": "3.8.15"
  }
 },
 "nbformat": 4,
 "nbformat_minor": 5
}
